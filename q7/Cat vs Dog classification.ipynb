{
 "cells": [
  {
   "cell_type": "code",
   "execution_count": 1,
   "id": "0d756343",
   "metadata": {},
   "outputs": [
    {
     "name": "stderr",
     "output_type": "stream",
     "text": [
      "c:\\Users\\DELL\\miniconda3\\envs\\face-detection\\lib\\site-packages\\torchvision\\models\\_utils.py:208: UserWarning: The parameter 'pretrained' is deprecated since 0.13 and may be removed in the future, please use 'weights' instead.\n",
      "  warnings.warn(\n",
      "c:\\Users\\DELL\\miniconda3\\envs\\face-detection\\lib\\site-packages\\torchvision\\models\\_utils.py:223: UserWarning: Arguments other than a weight enum or `None` for 'weights' are deprecated since 0.13 and may be removed in the future. The current behavior is equivalent to passing `weights=ResNet50_Weights.IMAGENET1K_V1`. You can also use `weights=ResNet50_Weights.DEFAULT` to get the most up-to-date weights.\n",
      "  warnings.warn(msg)\n"
     ]
    }
   ],
   "source": [
    "import torch\n",
    "import torchvision.transforms as transforms\n",
    "from torchvision import models\n",
    "from PIL import Image\n",
    "\n",
    "# Load a pre-trained ResNet50 model\n",
    "model = models.resnet50(pretrained=True)\n",
    "model.eval()\n",
    "\n",
    "# ImageNet class labels\n",
    "from torchvision.models import ResNet50_Weights\n",
    "weights = ResNet50_Weights.DEFAULT\n",
    "preprocess = weights.transforms()\n",
    "categories = weights.meta[\"categories\"]\n"
   ]
  },
  {
   "cell_type": "code",
   "execution_count": 2,
   "id": "6cc4f5d9",
   "metadata": {},
   "outputs": [],
   "source": [
    "def predict(image_path):\n",
    "    img = Image.open(image_path).convert(\"RGB\")\n",
    "    batch = preprocess(img).unsqueeze(0)  # Add batch dimension\n",
    "    with torch.no_grad():\n",
    "        outputs = model(batch)\n",
    "    probabilities = torch.nn.functional.softmax(outputs[0], dim=0)\n",
    "    top_prob, top_catid = torch.topk(probabilities, 1)\n",
    "    return categories[top_catid], top_prob.item()\n"
   ]
  },
  {
   "cell_type": "code",
   "execution_count": 4,
   "id": "d4bc2f91",
   "metadata": {},
   "outputs": [
    {
     "name": "stdout",
     "output_type": "stream",
     "text": [
      "Misclassified Dog Images:\n",
      "dog1.jpg -> Predicted: Chihuahua, Confidence: 0.73\n",
      "dog2.jpg -> Predicted: miniature poodle, Confidence: 0.81\n",
      "dog3.jpg -> Predicted: Tibetan terrier, Confidence: 0.46\n",
      "dog4.jpg -> Predicted: handkerchief, Confidence: 0.10\n",
      "dog5.jpg -> Predicted: Pomeranian, Confidence: 1.00\n"
     ]
    }
   ],
   "source": [
    "dog_images = [\n",
    "    \"dog1.jpg\", \"dog2.jpg\", \"dog3.jpg\", \"dog4.jpg\", \"dog5.jpg\"\n",
    "]\n",
    "\n",
    "misclassified = []\n",
    "for img_path in dog_images:\n",
    "    pred, prob = predict(img_path)\n",
    "    if \"dog\" not in pred.lower():   # Check if prediction is not a dog\n",
    "        misclassified.append((img_path, pred, prob))\n",
    "\n",
    "print(\"Misclassified Dog Images:\")\n",
    "for img, pred, prob in misclassified:\n",
    "    print(f\"{img} -> Predicted: {pred}, Confidence: {prob:.2f}\")\n"
   ]
  }
 ],
 "metadata": {
  "kernelspec": {
   "display_name": "face-detection",
   "language": "python",
   "name": "python3"
  },
  "language_info": {
   "codemirror_mode": {
    "name": "ipython",
    "version": 3
   },
   "file_extension": ".py",
   "mimetype": "text/x-python",
   "name": "python",
   "nbconvert_exporter": "python",
   "pygments_lexer": "ipython3",
   "version": "3.10.18"
  }
 },
 "nbformat": 4,
 "nbformat_minor": 5
}
